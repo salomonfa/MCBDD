{
 "cells": [
  {
   "cell_type": "code",
   "execution_count": 44,
   "id": "0efd2606-79a9-4f25-8b57-a411a4f370fa",
   "metadata": {},
   "outputs": [],
   "source": [
    "from chembl_webresource_client.new_client import new_client\n",
    "import json\n",
    "import numpy as np\n",
    "import pandas as pd\n",
    "import requests"
   ]
  },
  {
   "cell_type": "markdown",
   "id": "38dbe93d",
   "metadata": {},
   "source": [
    "# Task 1"
   ]
  },
  {
   "cell_type": "code",
   "execution_count": 2,
   "id": "563892ef-11cb-4200-a399-3a68cf0b3aae",
   "metadata": {},
   "outputs": [
    {
     "data": {
      "text/plain": [
       "4194"
      ]
     },
     "execution_count": 2,
     "metadata": {},
     "output_type": "execute_result"
    }
   ],
   "source": [
    "molecule = new_client.molecule\n",
    "approved_drugs = molecule.filter(max_phase=4).order_by('first_approval', 'pref_name')\n",
    "len(approved_drugs)"
   ]
  },
  {
   "cell_type": "markdown",
   "id": "55956a51",
   "metadata": {},
   "source": [
    "# Task 2"
   ]
  },
  {
   "cell_type": "code",
   "execution_count": 3,
   "id": "a73f9fe8-b5c9-4b4c-93e4-5c5d8d6acd5f",
   "metadata": {},
   "outputs": [
    {
     "data": {
      "text/plain": [
       "619"
      ]
     },
     "execution_count": 3,
     "metadata": {},
     "output_type": "execute_result"
    }
   ],
   "source": [
    "drug_list = list()\n",
    "\n",
    "for drug in approved_drugs.filter(first_approval__gte=2013):\n",
    "    drug_list.append((drug['pref_name'], drug['molecule_chembl_id'], drug['first_approval']))"
   ]
  },
  {
   "cell_type": "code",
   "execution_count": 25,
   "id": "de8bf6d8",
   "metadata": {},
   "outputs": [],
   "source": [
    "drug_id  = [d[1] for d in drug_list]\n",
    "look_up = dict()\n",
    "for d in drug_id:\n",
    "    look_up[d] = set()"
   ]
  },
  {
   "cell_type": "code",
   "execution_count": 26,
   "id": "fea8a93e-f5eb-4dca-8cd7-7a60f63d83c3",
   "metadata": {},
   "outputs": [],
   "source": [
    "\n",
    "activity = new_client.activity.filter(molecule_chembl_id__in=drug_id).only(['molecule_chembl_id', 'target_chembl_id'])\n",
    "step = 100\n",
    "for i in range(0, len(activity), step):\n",
    "    for a in activity[i:i+step]:\n",
    "        look_up[a['molecule_chembl_id']].add(a['target_chembl_id'])\n",
    "\n"
   ]
  },
  {
   "cell_type": "code",
   "execution_count": 54,
   "id": "5586d09e",
   "metadata": {},
   "outputs": [
    {
     "name": "stdout",
     "output_type": "stream",
     "text": [
      "4.0\n"
     ]
    }
   ],
   "source": [
    "target_dict = dict()\n",
    "for key in look_up:\n",
    "    val = list(look_up[key])\n",
    "    if len(val) != 0:\n",
    "        tar = new_client.target.filter(target_chembl_id__in=val).only(['target_components'])\n",
    "        if len(set(c['accession'] for t in tar for c in t['target_components'])) != 0:\n",
    "            target_dict[val[0]] = set(c['accession'] for t in tar for c in t['target_components'])\n",
    "\n",
    "med_list = list()\n",
    "for key in target_dict:\n",
    "    med_list.append(len(target_dict[key]))\n",
    "    \n",
    "print(np.median(med_list))"
   ]
  },
  {
   "cell_type": "markdown",
   "id": "2ecf114d",
   "metadata": {},
   "source": [
    "# Task 3"
   ]
  },
  {
   "cell_type": "code",
   "execution_count": 76,
   "id": "2753c03d-4d07-4ed9-bea2-3288096d24bb",
   "metadata": {},
   "outputs": [],
   "source": [
    "\n",
    "url = \"https://www.ebi.ac.uk/proteins/api/proteins?offset=0&size=100&accession=\"\n",
    "\n",
    "\n",
    "\n",
    "keywords = dict()\n",
    "for key in target_dict:\n",
    "    for up_id in target_dict[key]:\n",
    "        if isinstance(up_id, str):\n",
    "            request = requests.get(url + up_id, headers={ \"Accept\" : \"application/json\"})\n",
    "        \n",
    "        if not request.ok:\n",
    "            request.raise_for_status()\n",
    "        \n",
    "        t = json.loads(request.text)\n",
    "        for words in t:\n",
    "            if 'keywords' in words.keys():\n",
    "                for word in words['keywords']:\n",
    "                    if word['value'] in keywords:\n",
    "                        keywords[word['value']] += 1\n",
    "                    else:\n",
    "                        keywords[word['value']] = 1\n"
   ]
  },
  {
   "cell_type": "code",
   "execution_count": 82,
   "id": "60d5d490",
   "metadata": {},
   "outputs": [
    {
     "data": {
      "text/html": [
       "<div>\n",
       "<style scoped>\n",
       "    .dataframe tbody tr th:only-of-type {\n",
       "        vertical-align: middle;\n",
       "    }\n",
       "\n",
       "    .dataframe tbody tr th {\n",
       "        vertical-align: top;\n",
       "    }\n",
       "\n",
       "    .dataframe thead th {\n",
       "        text-align: right;\n",
       "    }\n",
       "</style>\n",
       "<table border=\"1\" class=\"dataframe\">\n",
       "  <thead>\n",
       "    <tr style=\"text-align: right;\">\n",
       "      <th></th>\n",
       "      <th>0</th>\n",
       "      <th>1</th>\n",
       "    </tr>\n",
       "  </thead>\n",
       "  <tbody>\n",
       "    <tr>\n",
       "      <th>0</th>\n",
       "      <td>Reference proteome</td>\n",
       "      <td>1424</td>\n",
       "    </tr>\n",
       "    <tr>\n",
       "      <th>1</th>\n",
       "      <td>3D-structure</td>\n",
       "      <td>1133</td>\n",
       "    </tr>\n",
       "    <tr>\n",
       "      <th>2</th>\n",
       "      <td>Phosphoprotein</td>\n",
       "      <td>1065</td>\n",
       "    </tr>\n",
       "    <tr>\n",
       "      <th>3</th>\n",
       "      <td>Nucleotide-binding</td>\n",
       "      <td>912</td>\n",
       "    </tr>\n",
       "    <tr>\n",
       "      <th>4</th>\n",
       "      <td>ATP-binding</td>\n",
       "      <td>859</td>\n",
       "    </tr>\n",
       "    <tr>\n",
       "      <th>5</th>\n",
       "      <td>Alternative splicing</td>\n",
       "      <td>837</td>\n",
       "    </tr>\n",
       "    <tr>\n",
       "      <th>6</th>\n",
       "      <td>Transferase</td>\n",
       "      <td>825</td>\n",
       "    </tr>\n",
       "    <tr>\n",
       "      <th>7</th>\n",
       "      <td>Membrane</td>\n",
       "      <td>778</td>\n",
       "    </tr>\n",
       "    <tr>\n",
       "      <th>8</th>\n",
       "      <td>Kinase</td>\n",
       "      <td>758</td>\n",
       "    </tr>\n",
       "    <tr>\n",
       "      <th>9</th>\n",
       "      <td>Cytoplasm</td>\n",
       "      <td>709</td>\n",
       "    </tr>\n",
       "  </tbody>\n",
       "</table>\n",
       "</div>"
      ],
      "text/plain": [
       "                      0     1\n",
       "0    Reference proteome  1424\n",
       "1          3D-structure  1133\n",
       "2        Phosphoprotein  1065\n",
       "3    Nucleotide-binding   912\n",
       "4           ATP-binding   859\n",
       "5  Alternative splicing   837\n",
       "6           Transferase   825\n",
       "7              Membrane   778\n",
       "8                Kinase   758\n",
       "9             Cytoplasm   709"
      ]
     },
     "execution_count": 82,
     "metadata": {},
     "output_type": "execute_result"
    }
   ],
   "source": [
    "pd.DataFrame.from_dict(sorted(keywords.items(), key=lambda x:x[1], reverse=True)[:10])"
   ]
  },
  {
   "cell_type": "code",
   "execution_count": 84,
   "id": "fb294301",
   "metadata": {},
   "outputs": [
    {
     "data": {
      "text/plain": [
       "[('Reference proteome', 1424),\n",
       " ('3D-structure', 1133),\n",
       " ('Phosphoprotein', 1065),\n",
       " ('Nucleotide-binding', 912),\n",
       " ('ATP-binding', 859),\n",
       " ('Alternative splicing', 837),\n",
       " ('Transferase', 825),\n",
       " ('Membrane', 778),\n",
       " ('Kinase', 758),\n",
       " ('Cytoplasm', 709)]"
      ]
     },
     "execution_count": 84,
     "metadata": {},
     "output_type": "execute_result"
    }
   ],
   "source": [
    "sorted(keywords.items(), key=lambda x:x[1], reverse=True)[:10]"
   ]
  },
  {
   "cell_type": "code",
   "execution_count": null,
   "id": "49f9f746",
   "metadata": {},
   "outputs": [],
   "source": []
  }
 ],
 "metadata": {
  "kernelspec": {
   "display_name": "Python 3 (ipykernel)",
   "language": "python",
   "name": "python3"
  },
  "language_info": {
   "codemirror_mode": {
    "name": "ipython",
    "version": 3
   },
   "file_extension": ".py",
   "mimetype": "text/x-python",
   "name": "python",
   "nbconvert_exporter": "python",
   "pygments_lexer": "ipython3",
   "version": "3.8.16"
  }
 },
 "nbformat": 4,
 "nbformat_minor": 5
}
