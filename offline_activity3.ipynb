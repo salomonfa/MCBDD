{
 "cells": [
  {
   "cell_type": "markdown",
   "id": "bb6f326c-9b4a-40eb-bcb5-304cbd490b9e",
   "metadata": {},
   "source": [
    "# MCBDD Module III: Offline activity"
   ]
  },
  {
   "cell_type": "markdown",
   "id": "851e586f-44a4-4a09-9eee-f217089ed47b",
   "metadata": {},
   "source": [
    "## Question 1: What is factor analysis?\n",
    "\n",
    "Factor analysis is a methode to find so called factors, to clarify and explain how the variables in a dataset are conected to each other and therby reduce the amount of dimensions in the dataset. So, if we have a dataset with 10 different variables we might be able to express that variation in the dataset with 3 factors."
   ]
  },
  {
   "cell_type": "markdown",
   "id": "146a3e14-804c-419d-9604-2ad1b1a3f0fe",
   "metadata": {},
   "source": [
    "## Question 2: What are the relationships between covariance matrix, factor analysis, and principal component analysis (PCA)?\n",
    "\n",
    "PCA is like a version of FA, inthat they aim to do the same thing (i.e. reduce the dimension of the data). They differe in the way they do that: FA assumes that there are underlying factors in the data, while PCA forms the principle components based on the correlation of the variables. \n",
    "For PCA we calculate the covariance matrix of the data and from that the Eigenvectores, those are the principle components and the eigenvalues are the variance along the component. The Eigenvectores are ordered from largest Eigenvalue to lowest Eigenvalue, so if we want to represent the largest amount of variance with the least possible dimenstions, we can take the first n Eigenvectores, whose variance adds up to the amount we decided to be sufficiant and ignore all other Eigenvectores."
   ]
  },
  {
   "cell_type": "markdown",
   "id": "0f343416-2e98-4446-a6ef-789830835504",
   "metadata": {},
   "source": [
    "## Question 3: What do we mean with loadings?\n",
    "\n",
    "If we multiply a Eigenvector by the square root of its Eigenvalue we get the loadings. Loadings are comparable by magnitude with the correlations between the variables."
   ]
  },
  {
   "cell_type": "markdown",
   "id": "09156bef-f4f1-4949-aeb3-36bae83e40c3",
   "metadata": {},
   "source": [
    "## Question 4: Why factors are orthogonal to each other? What’s the consequence?\n",
    "\n",
    "In PCA they are orthogonal to each other because the Eigenvectors of the Covariance matrix are alsways orthogonal, since the covariance matrix is symetrical. In FA, if we force the factors to be orthogonal to each other that means that these factors are not correlated."
   ]
  },
  {
   "cell_type": "markdown",
   "id": "28939481-a83a-4fed-90ec-2049d12e28be",
   "metadata": {},
   "source": [
    "## Question 5: Why factor analysis can be used as a generative model?\n",
    "\n",
    "We can generate new samples from existing data by picking new samples from the distribution of the existing data, which while give us data points resemblying the existing data"
   ]
  },
  {
   "cell_type": "markdown",
   "id": "5948a76c-0474-43a6-a6a2-d9fbf69e4f94",
   "metadata": {},
   "source": [
    "## Question 6: What is the relationship between factor analysis and autoencoder?\n",
    "\n",
    "They do the same thing in essence, but FA is faster and Autoencoder can find more complicated non-linear factores."
   ]
  },
  {
   "cell_type": "markdown",
   "id": "de0a7baa-a85b-4b32-afad-e1d667b88610",
   "metadata": {},
   "source": [
    "## Question 7: How would you explain factor analysis to yourself half year ago?\n",
    "\n",
    "It is a methode to simplify data, so that it can be visualized easier, but at the same time trying to keep as much of the variance as possible."
   ]
  },
  {
   "cell_type": "markdown",
   "id": "216a6f45-2bd7-4205-9f43-ad0bdd8dfdc8",
   "metadata": {},
   "source": [
    "## Code example:\n",
    "\n",
    "For the FA I used data from https://www.kaggle.com/datasets/csafrit2/maternal-health-risk-data and a tutorial from https://www.datacamp.com/tutorial/introduction-factor-analysis. "
   ]
  },
  {
   "cell_type": "code",
   "execution_count": 1,
   "id": "876ad364-437f-4da0-a83e-b5ae05d2ade3",
   "metadata": {},
   "outputs": [],
   "source": [
    "from factor_analyzer import FactorAnalyzer\n",
    "import numpy as np\n",
    "import pandas as pd\n",
    "import matplotlib.pyplot as plt"
   ]
  },
  {
   "cell_type": "code",
   "execution_count": 2,
   "id": "f1fd1b03-8e3b-4353-bb2c-574d88d413f7",
   "metadata": {},
   "outputs": [
    {
     "data": {
      "text/html": [
       "<div>\n",
       "<style scoped>\n",
       "    .dataframe tbody tr th:only-of-type {\n",
       "        vertical-align: middle;\n",
       "    }\n",
       "\n",
       "    .dataframe tbody tr th {\n",
       "        vertical-align: top;\n",
       "    }\n",
       "\n",
       "    .dataframe thead th {\n",
       "        text-align: right;\n",
       "    }\n",
       "</style>\n",
       "<table border=\"1\" class=\"dataframe\">\n",
       "  <thead>\n",
       "    <tr style=\"text-align: right;\">\n",
       "      <th></th>\n",
       "      <th>Age</th>\n",
       "      <th>SystolicBP</th>\n",
       "      <th>DiastolicBP</th>\n",
       "      <th>BS</th>\n",
       "      <th>BodyTemp</th>\n",
       "      <th>HeartRate</th>\n",
       "    </tr>\n",
       "  </thead>\n",
       "  <tbody>\n",
       "    <tr>\n",
       "      <th>0</th>\n",
       "      <td>25</td>\n",
       "      <td>130</td>\n",
       "      <td>80</td>\n",
       "      <td>15.0</td>\n",
       "      <td>98.0</td>\n",
       "      <td>86</td>\n",
       "    </tr>\n",
       "    <tr>\n",
       "      <th>1</th>\n",
       "      <td>35</td>\n",
       "      <td>140</td>\n",
       "      <td>90</td>\n",
       "      <td>13.0</td>\n",
       "      <td>98.0</td>\n",
       "      <td>70</td>\n",
       "    </tr>\n",
       "    <tr>\n",
       "      <th>2</th>\n",
       "      <td>29</td>\n",
       "      <td>90</td>\n",
       "      <td>70</td>\n",
       "      <td>8.0</td>\n",
       "      <td>100.0</td>\n",
       "      <td>80</td>\n",
       "    </tr>\n",
       "    <tr>\n",
       "      <th>3</th>\n",
       "      <td>30</td>\n",
       "      <td>140</td>\n",
       "      <td>85</td>\n",
       "      <td>7.0</td>\n",
       "      <td>98.0</td>\n",
       "      <td>70</td>\n",
       "    </tr>\n",
       "    <tr>\n",
       "      <th>4</th>\n",
       "      <td>35</td>\n",
       "      <td>120</td>\n",
       "      <td>60</td>\n",
       "      <td>6.1</td>\n",
       "      <td>98.0</td>\n",
       "      <td>76</td>\n",
       "    </tr>\n",
       "  </tbody>\n",
       "</table>\n",
       "</div>"
      ],
      "text/plain": [
       "   Age  SystolicBP  DiastolicBP    BS  BodyTemp  HeartRate\n",
       "0   25         130           80  15.0      98.0         86\n",
       "1   35         140           90  13.0      98.0         70\n",
       "2   29          90           70   8.0     100.0         80\n",
       "3   30         140           85   7.0      98.0         70\n",
       "4   35         120           60   6.1      98.0         76"
      ]
     },
     "execution_count": 2,
     "metadata": {},
     "output_type": "execute_result"
    }
   ],
   "source": [
    "df= pd.read_csv(\"Maternal_Health_Risk_Data_Set.csv\")\n",
    "df.drop(['RiskLevel'],axis=1,inplace=True)\n",
    "df.head()"
   ]
  },
  {
   "cell_type": "markdown",
   "id": "4681df52-b415-4bb0-85ab-45d66bece36b",
   "metadata": {},
   "source": [
    "To check if it is resonable to analyze the data using FA we do two tests. \n",
    "First we do Bartlett’s Test of Sphericity. In this test we compare the correlation matrix to the identity matrix to make sure that they diverge significantly from each other for our dataset, so that we know a FA is suitable to use."
   ]
  },
  {
   "cell_type": "code",
   "execution_count": 3,
   "id": "cf6725d9-fbc0-4236-ba1b-99687358c6df",
   "metadata": {},
   "outputs": [
    {
     "data": {
      "text/plain": [
       "0.0"
      ]
     },
     "execution_count": 3,
     "metadata": {},
     "output_type": "execute_result"
    }
   ],
   "source": [
    "from factor_analyzer.factor_analyzer import calculate_bartlett_sphericity\n",
    "chi_square_value,p_value=calculate_bartlett_sphericity(df)\n",
    "p_value\n"
   ]
  },
  {
   "cell_type": "markdown",
   "id": "2f5bf8ef-2d74-4aab-a1a6-e7235c1547f4",
   "metadata": {},
   "source": [
    "for our dataset the p-value is 0 so it is suitable to use for FA.\n",
    "\n",
    "The second test that we do is the Kaiser-Meyer-Olkin (KMO) Test. It is a another measure of how suited the data is for FA. The test measures sampling adequacy for each variable in the model and for the complete model."
   ]
  },
  {
   "cell_type": "code",
   "execution_count": 4,
   "id": "5e71ee5e-f5bf-4f73-b8d0-5e5676a536fc",
   "metadata": {},
   "outputs": [
    {
     "data": {
      "text/plain": [
       "0.7030370514673676"
      ]
     },
     "execution_count": 4,
     "metadata": {},
     "output_type": "execute_result"
    }
   ],
   "source": [
    "from factor_analyzer.factor_analyzer import calculate_kmo\n",
    "kmo_all,kmo_model=calculate_kmo(df)\n",
    "kmo_model"
   ]
  },
  {
   "cell_type": "markdown",
   "id": "176d6085-478c-4698-8962-a21b41c1aa64",
   "metadata": {},
   "source": [
    "A value of 0.7 means the data is still suited for FA, but not perfect. A value between 0.8 and 1.0 would be better. "
   ]
  },
  {
   "cell_type": "code",
   "execution_count": 5,
   "id": "90ce37a6-596a-41a7-a929-885e0f57c00d",
   "metadata": {},
   "outputs": [
    {
     "data": {
      "image/png": "[encoded data removed]",
      "text/plain": [
       "<Figure size 640x480 with 1 Axes>"
      ]
     },
     "metadata": {},
     "output_type": "display_data"
    }
   ],
   "source": [
    "fa = FactorAnalyzer(n_factors= 2, rotation=None)\n",
    "fa.fit(df)\n",
    "load = fa.loadings_\n",
    "e_val, e_vec = fa.get_eigenvalues()\n",
    "\n",
    "plt.scatter(range(1, df.shape[1]+1), e_val)\n",
    "plt.plot(range(1, df.shape[1]+1), e_val)\n",
    "plt.title(\"Eigenvalues of Factors\")\n",
    "plt.xlabel(\"Factor\")\n",
    "plt.ylabel(\"Eigenvalue\")\n",
    "plt.grid()\n",
    "plt.show()"
   ]
  },
  {
   "cell_type": "markdown",
   "id": "7930fef0-ca43-47de-b9a8-32bb14c6cc9e",
   "metadata": {},
   "source": [
    "I chose to set the number of Factors to 2 because only two of the Eigenvalues are above 1. The logic behind that is that the factors we want to keep should at least, have more variance than any of the original measured variables comprised in the factor."
   ]
  },
  {
   "cell_type": "code",
   "execution_count": 6,
   "id": "071b162e-8307-41df-9b9d-ab1c7becef7b",
   "metadata": {},
   "outputs": [
    {
     "data": {
      "text/html": [
       "<div>\n",
       "<style scoped>\n",
       "    .dataframe tbody tr th:only-of-type {\n",
       "        vertical-align: middle;\n",
       "    }\n",
       "\n",
       "    .dataframe tbody tr th {\n",
       "        vertical-align: top;\n",
       "    }\n",
       "\n",
       "    .dataframe thead th {\n",
       "        text-align: right;\n",
       "    }\n",
       "</style>\n",
       "<table border=\"1\" class=\"dataframe\">\n",
       "  <thead>\n",
       "    <tr style=\"text-align: right;\">\n",
       "      <th></th>\n",
       "      <th>0</th>\n",
       "      <th>1</th>\n",
       "    </tr>\n",
       "  </thead>\n",
       "  <tbody>\n",
       "    <tr>\n",
       "      <th>Age</th>\n",
       "      <td>0.568205</td>\n",
       "      <td>0.211555</td>\n",
       "    </tr>\n",
       "    <tr>\n",
       "      <th>SystolicBP</th>\n",
       "      <td>0.858270</td>\n",
       "      <td>-0.246804</td>\n",
       "    </tr>\n",
       "    <tr>\n",
       "      <th>DiastolicBP</th>\n",
       "      <td>0.827487</td>\n",
       "      <td>-0.233271</td>\n",
       "    </tr>\n",
       "    <tr>\n",
       "      <th>BS</th>\n",
       "      <td>0.640698</td>\n",
       "      <td>0.500391</td>\n",
       "    </tr>\n",
       "    <tr>\n",
       "      <th>BodyTemp</th>\n",
       "      <td>-0.312713</td>\n",
       "      <td>0.134420</td>\n",
       "    </tr>\n",
       "    <tr>\n",
       "      <th>HeartRate</th>\n",
       "      <td>0.022040</td>\n",
       "      <td>0.275932</td>\n",
       "    </tr>\n",
       "  </tbody>\n",
       "</table>\n",
       "</div>"
      ],
      "text/plain": [
       "                    0         1\n",
       "Age          0.568205  0.211555\n",
       "SystolicBP   0.858270 -0.246804\n",
       "DiastolicBP  0.827487 -0.233271\n",
       "BS           0.640698  0.500391\n",
       "BodyTemp    -0.312713  0.134420\n",
       "HeartRate    0.022040  0.275932"
      ]
     },
     "execution_count": 6,
     "metadata": {},
     "output_type": "execute_result"
    }
   ],
   "source": [
    "pd.DataFrame(load,index=df.columns)"
   ]
  },
  {
   "cell_type": "markdown",
   "id": "cd66a358-0c3e-44c9-b871-b6bd6c9eb38c",
   "metadata": {},
   "source": [
    "We can see in the table above, that factor 0 has an influenze on everything except the BodyTemp and specificaly a large influenze on Blood Pressure. Factor 1 has an influenze on everything except for the the two Blood Pressure (BP) values and it has a larg influenz on blood glucose levels (BS).\n",
    "\n",
    "Lastly we can show how much of the variance is comprised in those two factors by calculating the cumulative Variance."
   ]
  },
  {
   "cell_type": "code",
   "execution_count": 7,
   "id": "7fedfffd-3a92-44a9-b3f6-1144a2a5cee8",
   "metadata": {},
   "outputs": [
    {
     "data": {
      "text/html": [
       "<div>\n",
       "<style scoped>\n",
       "    .dataframe tbody tr th:only-of-type {\n",
       "        vertical-align: middle;\n",
       "    }\n",
       "\n",
       "    .dataframe tbody tr th {\n",
       "        vertical-align: top;\n",
       "    }\n",
       "\n",
       "    .dataframe thead th {\n",
       "        text-align: right;\n",
       "    }\n",
       "</style>\n",
       "<table border=\"1\" class=\"dataframe\">\n",
       "  <thead>\n",
       "    <tr style=\"text-align: right;\">\n",
       "      <th></th>\n",
       "      <th>0</th>\n",
       "      <th>1</th>\n",
       "    </tr>\n",
       "  </thead>\n",
       "  <tbody>\n",
       "    <tr>\n",
       "      <th>Variance</th>\n",
       "      <td>2.252988</td>\n",
       "      <td>0.504681</td>\n",
       "    </tr>\n",
       "    <tr>\n",
       "      <th>Proportional Var</th>\n",
       "      <td>0.375498</td>\n",
       "      <td>0.084114</td>\n",
       "    </tr>\n",
       "    <tr>\n",
       "      <th>Cumulative Var</th>\n",
       "      <td>0.375498</td>\n",
       "      <td>0.459612</td>\n",
       "    </tr>\n",
       "  </tbody>\n",
       "</table>\n",
       "</div>"
      ],
      "text/plain": [
       "                         0         1\n",
       "Variance          2.252988  0.504681\n",
       "Proportional Var  0.375498  0.084114\n",
       "Cumulative Var    0.375498  0.459612"
      ]
     },
     "execution_count": 7,
     "metadata": {},
     "output_type": "execute_result"
    }
   ],
   "source": [
    "pd.DataFrame(fa.get_factor_variance(),index=['Variance','Proportional Var','Cumulative Var'])"
   ]
  },
  {
   "cell_type": "markdown",
   "id": "a430230a-a6bf-4c49-8f09-45d6a4527838",
   "metadata": {},
   "source": [
    "From the tabel above we can tell that 45% of the variance is from the first two factores."
   ]
  },
  {
   "cell_type": "code",
   "execution_count": null,
   "id": "bf13f931-d837-4cbc-811e-1b8997bb3328",
   "metadata": {},
   "outputs": [],
   "source": []
  }
 ],
 "metadata": {
  "kernelspec": {
   "display_name": "Python 3 (ipykernel)",
   "language": "python",
   "name": "python3"
  },
  "language_info": {
   "codemirror_mode": {
    "name": "ipython",
    "version": 3
   },
   "file_extension": ".py",
   "mimetype": "text/x-python",
   "name": "python",
   "nbconvert_exporter": "python",
   "pygments_lexer": "ipython3",
   "version": "3.8.16"
  }
 },
 "nbformat": 4,
 "nbformat_minor": 5
}
